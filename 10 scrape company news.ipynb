{
 "cells": [
  {
   "cell_type": "markdown",
   "metadata": {},
   "source": [
    "## Get relevant news (for company with provided ticker)\n"
   ]
  },
  {
   "cell_type": "code",
   "execution_count": 1,
   "metadata": {},
   "outputs": [
    {
     "data": {
      "text/plain": [
       "yfinance.Ticker object <MSFT>"
      ]
     },
     "execution_count": 1,
     "metadata": {},
     "output_type": "execute_result"
    }
   ],
   "source": [
    "import yfinance as yf\n",
    "import datetime as dt\n",
    "msft = yf.Ticker(\"MSFT\") # get stock info from yfinance of Microsoft\n",
    "msft"
   ]
  },
  {
   "cell_type": "code",
   "execution_count": 2,
   "metadata": {},
   "outputs": [
    {
     "data": {
      "text/plain": [
       "[{'uuid': 'a1029624-3f51-3fde-8655-41a9ff740b88',\n",
       "  'title': '10 Best Dividend Stocks According to Andreas Halvorsen’s Viking Global',\n",
       "  'publisher': 'Insider Monkey',\n",
       "  'link': 'https://finance.yahoo.com/news/10-best-dividend-stocks-according-193003339.html',\n",
       "  'providerPublishTime': 1645299003,\n",
       "  'type': 'STORY'},\n",
       " {'uuid': '2a8fc543-d18e-32f1-9708-86a5c71adb32',\n",
       "  'title': '10 Best Stocks to Buy According to Stanley Druckenmiller',\n",
       "  'publisher': 'Insider Monkey',\n",
       "  'link': 'https://finance.yahoo.com/news/10-best-stocks-buy-according-184806148.html',\n",
       "  'providerPublishTime': 1645210086,\n",
       "  'type': 'STORY'},\n",
       " {'uuid': '74a31d64-85f2-3d53-8b21-db979df4516e',\n",
       "  'title': 'Microsoft’s 10 Biggest Acquisitions of All Time',\n",
       "  'publisher': 'Insider Monkey',\n",
       "  'link': 'https://finance.yahoo.com/news/microsoft-10-biggest-acquisitions-time-183513066.html',\n",
       "  'providerPublishTime': 1645209313,\n",
       "  'type': 'STORY'},\n",
       " {'uuid': '6609c8b1-326a-3329-b95c-a3fee6d44405',\n",
       "  'title': '‘Seismic shift at a glacial pace’ — Microsoft is walking into one of the weirdest times ever for a big merger',\n",
       "  'publisher': 'MarketWatch',\n",
       "  'link': 'https://finance.yahoo.com/m/6609c8b1-326a-3329-b95c-a3fee6d44405/%E2%80%98seismic-shift-at-a-glacial.html',\n",
       "  'providerPublishTime': 1645208700,\n",
       "  'type': 'STORY'},\n",
       " {'uuid': '3588c124-7e11-3992-b306-49ff05f27336',\n",
       "  'title': 'Why Growth and Returns are Surprisingly High for Microsoft (NASDAQ:MSFT)',\n",
       "  'publisher': 'Simply Wall St.',\n",
       "  'link': 'https://finance.yahoo.com/news/why-growth-returns-surprisingly-high-181810000.html',\n",
       "  'providerPublishTime': 1645208290,\n",
       "  'type': 'STORY'},\n",
       " {'uuid': '65b53896-faf4-3a06-9d0d-a63cf3c83192',\n",
       "  'title': '4 Dow Jones Stocks To Buy And Watch In February 2022: Apple Slides',\n",
       "  'publisher': \"Investor's Business Daily\",\n",
       "  'link': 'https://finance.yahoo.com/m/65b53896-faf4-3a06-9d0d-a63cf3c83192/4-dow-jones-stocks-to-buy-and.html',\n",
       "  'providerPublishTime': 1645206693,\n",
       "  'type': 'STORY'},\n",
       " {'uuid': 'd53e56ca-b407-3254-8782-e73642f8a6dc',\n",
       "  'title': '‘Horizon Forbidden West’ Looms Large in\\xa0Sony’s PlayStation Strategy',\n",
       "  'publisher': 'Bloomberg',\n",
       "  'link': 'https://finance.yahoo.com/news/horizon-forbidden-west-looms-large-164424663.html',\n",
       "  'providerPublishTime': 1645205859,\n",
       "  'type': 'STORY'},\n",
       " {'uuid': '08561c49-1aed-38af-b580-d344931bf917',\n",
       "  'title': 'Is Roblox Stock A Buy Right Now After Q4 Earnings Results?',\n",
       "  'publisher': \"Investor's Business Daily\",\n",
       "  'link': 'https://finance.yahoo.com/m/08561c49-1aed-38af-b580-d344931bf917/is-roblox-stock-a-buy-right.html',\n",
       "  'providerPublishTime': 1645204608,\n",
       "  'type': 'STORY'}]"
      ]
     },
     "execution_count": 2,
     "metadata": {},
     "output_type": "execute_result"
    },
    {
     "data": {
      "text/plain": [
       "list"
      ]
     },
     "execution_count": 2,
     "metadata": {},
     "output_type": "execute_result"
    }
   ],
   "source": [
    "msft.news # get news\n",
    "type(msft.news)"
   ]
  },
  {
   "cell_type": "code",
   "execution_count": 3,
   "metadata": {},
   "outputs": [
    {
     "data": {
      "text/plain": [
       "8"
      ]
     },
     "execution_count": 3,
     "metadata": {},
     "output_type": "execute_result"
    }
   ],
   "source": [
    "len(msft.news)"
   ]
  },
  {
   "cell_type": "code",
   "execution_count": 4,
   "metadata": {},
   "outputs": [],
   "source": [
    "links = [i['link'] for i in msft.news]\n"
   ]
  },
  {
   "cell_type": "code",
   "execution_count": 5,
   "metadata": {},
   "outputs": [
    {
     "data": {
      "text/plain": [
       "['https://finance.yahoo.com/news/10-best-dividend-stocks-according-193003339.html',\n",
       " 'https://finance.yahoo.com/news/10-best-stocks-buy-according-184806148.html',\n",
       " 'https://finance.yahoo.com/news/microsoft-10-biggest-acquisitions-time-183513066.html',\n",
       " 'https://finance.yahoo.com/m/6609c8b1-326a-3329-b95c-a3fee6d44405/%E2%80%98seismic-shift-at-a-glacial.html',\n",
       " 'https://finance.yahoo.com/news/why-growth-returns-surprisingly-high-181810000.html',\n",
       " 'https://finance.yahoo.com/m/65b53896-faf4-3a06-9d0d-a63cf3c83192/4-dow-jones-stocks-to-buy-and.html',\n",
       " 'https://finance.yahoo.com/news/horizon-forbidden-west-looms-large-164424663.html',\n",
       " 'https://finance.yahoo.com/m/08561c49-1aed-38af-b580-d344931bf917/is-roblox-stock-a-buy-right.html']"
      ]
     },
     "execution_count": 5,
     "metadata": {},
     "output_type": "execute_result"
    }
   ],
   "source": [
    "links"
   ]
  },
  {
   "cell_type": "code",
   "execution_count": 6,
   "metadata": {},
   "outputs": [
    {
     "data": {
      "text/plain": [
       "['Insider Monkey',\n",
       " 'Insider Monkey',\n",
       " 'Insider Monkey',\n",
       " 'MarketWatch',\n",
       " 'Simply Wall St.',\n",
       " \"Investor's Business Daily\",\n",
       " 'Bloomberg',\n",
       " \"Investor's Business Daily\"]"
      ]
     },
     "execution_count": 6,
     "metadata": {},
     "output_type": "execute_result"
    }
   ],
   "source": [
    "publishers=[i['publisher'] for i in msft.news]\n",
    "publishers"
   ]
  },
  {
   "cell_type": "code",
   "execution_count": 7,
   "metadata": {},
   "outputs": [],
   "source": [
    "def unix_time_to_human(unix_time):\n",
    "    return dt.datetime.fromtimestamp(unix_time).strftime('%Y-%m-%d %H:%M:%S')"
   ]
  },
  {
   "cell_type": "code",
   "execution_count": 8,
   "metadata": {},
   "outputs": [
    {
     "data": {
      "text/plain": [
       "['2022-02-20 01:00:03',\n",
       " '2022-02-19 00:18:06',\n",
       " '2022-02-19 00:05:13',\n",
       " '2022-02-18 23:55:00',\n",
       " '2022-02-18 23:48:10',\n",
       " '2022-02-18 23:21:33',\n",
       " '2022-02-18 23:07:39',\n",
       " '2022-02-18 22:46:48']"
      ]
     },
     "execution_count": 8,
     "metadata": {},
     "output_type": "execute_result"
    }
   ],
   "source": [
    "# time = [dt.datetime.fromtimestamp(i['providerPublishTime']) for i in msft.news]\n",
    "time = [unix_time_to_human(i['providerPublishTime']) for i in msft.news]\n",
    "time"
   ]
  },
  {
   "cell_type": "code",
   "execution_count": 9,
   "metadata": {},
   "outputs": [
    {
     "data": {
      "text/plain": [
       "['10 Best Dividend Stocks According to Andreas Halvorsen’s Viking Global',\n",
       " '10 Best Stocks to Buy According to Stanley Druckenmiller',\n",
       " 'Microsoft’s 10 Biggest Acquisitions of All Time',\n",
       " '‘Seismic shift at a glacial pace’ — Microsoft is walking into one of the weirdest times ever for a big merger',\n",
       " 'Why Growth and Returns are Surprisingly High for Microsoft (NASDAQ:MSFT)',\n",
       " '4 Dow Jones Stocks To Buy And Watch In February 2022: Apple Slides',\n",
       " '‘Horizon Forbidden West’ Looms Large in\\xa0Sony’s PlayStation Strategy',\n",
       " 'Is Roblox Stock A Buy Right Now After Q4 Earnings Results?']"
      ]
     },
     "execution_count": 9,
     "metadata": {},
     "output_type": "execute_result"
    }
   ],
   "source": [
    "titles = [i['title'] for i in msft.news]\n",
    "titles"
   ]
  },
  {
   "cell_type": "code",
   "execution_count": 31,
   "metadata": {},
   "outputs": [],
   "source": [
    "def get_news(ticker):\n",
    "    ''' Get news from yfinance'''\n",
    "    \n",
    "    import yfinance as yf\n",
    "    import datetime as dt\n",
    "    import seaborn as sns\n",
    "    import pandas as pd\n",
    "    \n",
    "    pd.set_option('display.max_columns', None)\n",
    "    pd.set_option('display.float_format', lambda x: '%.2f' % x)\n",
    "    sns.set(style='whitegrid', color_codes=True, font_scale=1.5,\n",
    "            palette='plasma', font='Arial', rc={'figure.figsize': (10, 8)})\n",
    "    \n",
    "    ticker = yf.Ticker(ticker)\n",
    "    links = [i['link'] for i in ticker.news]\n",
    "    time = [unix_time_to_human(i['providerPublishTime']) for i in ticker.news]\n",
    "    titles = [i['title'] for i in ticker.news]\n",
    "    final = [(i,j,k) for i,j,k in zip(time,titles, links)]\n",
    "    return final\n",
    "\n"
   ]
  },
  {
   "cell_type": "code",
   "execution_count": 35,
   "metadata": {},
   "outputs": [],
   "source": [
    "msft = get_news('MSFT')\n",
    "aapl = get_news('AAPL')\n",
    "google = get_news('GOOG')"
   ]
  },
  {
   "cell_type": "code",
   "execution_count": 36,
   "metadata": {},
   "outputs": [
    {
     "data": {
      "text/plain": [
       "[('2022-02-20 01:00:03',\n",
       "  '10 Best Dividend Stocks According to Andreas Halvorsen’s Viking Global',\n",
       "  'https://finance.yahoo.com/news/10-best-dividend-stocks-according-193003339.html'),\n",
       " ('2022-02-19 00:18:06',\n",
       "  '10 Best Stocks to Buy According to Stanley Druckenmiller',\n",
       "  'https://finance.yahoo.com/news/10-best-stocks-buy-according-184806148.html'),\n",
       " ('2022-02-19 00:05:13',\n",
       "  'Microsoft’s 10 Biggest Acquisitions of All Time',\n",
       "  'https://finance.yahoo.com/news/microsoft-10-biggest-acquisitions-time-183513066.html'),\n",
       " ('2022-02-18 23:55:00',\n",
       "  '‘Seismic shift at a glacial pace’ — Microsoft is walking into one of the weirdest times ever for a big merger',\n",
       "  'https://finance.yahoo.com/m/6609c8b1-326a-3329-b95c-a3fee6d44405/%E2%80%98seismic-shift-at-a-glacial.html'),\n",
       " ('2022-02-18 23:48:10',\n",
       "  'Why Growth and Returns are Surprisingly High for Microsoft (NASDAQ:MSFT)',\n",
       "  'https://finance.yahoo.com/news/why-growth-returns-surprisingly-high-181810000.html'),\n",
       " ('2022-02-18 23:21:33',\n",
       "  '4 Dow Jones Stocks To Buy And Watch In February 2022: Apple Slides',\n",
       "  'https://finance.yahoo.com/m/65b53896-faf4-3a06-9d0d-a63cf3c83192/4-dow-jones-stocks-to-buy-and.html'),\n",
       " ('2022-02-18 23:07:39',\n",
       "  '‘Horizon Forbidden West’ Looms Large in\\xa0Sony’s PlayStation Strategy',\n",
       "  'https://finance.yahoo.com/news/horizon-forbidden-west-looms-large-164424663.html'),\n",
       " ('2022-02-18 22:46:48',\n",
       "  'Is Roblox Stock A Buy Right Now After Q4 Earnings Results?',\n",
       "  'https://finance.yahoo.com/m/08561c49-1aed-38af-b580-d344931bf917/is-roblox-stock-a-buy-right.html')]"
      ]
     },
     "execution_count": 36,
     "metadata": {},
     "output_type": "execute_result"
    }
   ],
   "source": [
    "msft"
   ]
  },
  {
   "cell_type": "code",
   "execution_count": 37,
   "metadata": {},
   "outputs": [
    {
     "data": {
      "text/plain": [
       "[('2022-02-20 00:26:49',\n",
       "  \"Dow Jones Futures: Markets Await Putin's Ukraine Invasion Decision; Five Stocks That Don't Suck\",\n",
       "  'https://finance.yahoo.com/m/88444a8f-9381-3495-abd5-501314c58ba7/dow-jones-futures%3A-markets.html'),\n",
       " ('2022-02-19 18:58:38',\n",
       "  'Apple, Hilton Lead Five Stocks Near Buy Points Flashing This Bullish Signal',\n",
       "  'https://finance.yahoo.com/m/76f3e440-ca0b-34e8-885a-40b3fc934ba8/apple%2C-hilton-lead-five.html'),\n",
       " ('2022-02-19 18:00:00',\n",
       "  '6 Anti-Trust Laws That Smart Investors Should Be Watching',\n",
       "  'https://finance.yahoo.com/m/eaafecf8-a7e5-35a3-bf71-78c0dcb84e71/6-anti-trust-laws-that-smart.html'),\n",
       " ('2022-02-19 03:44:12',\n",
       "  \"Apple store unions could jeopardize its 'caring' reputation\",\n",
       "  'https://finance.yahoo.com/news/apple-could-jeopardize-its-reputation-if-it-fights-unions-221412117.html'),\n",
       " ('2022-02-19 03:08:06',\n",
       "  'ISS supports Apple shareholder proposal on forced labor',\n",
       "  'https://finance.yahoo.com/news/iss-supports-apple-shareholder-proposal-213806160.html'),\n",
       " ('2022-02-19 01:10:36',\n",
       "  'Frances Haugen takes us inside Meta HQ',\n",
       "  'https://finance.yahoo.com/video/frances-haugen-takes-us-inside-110000114.html'),\n",
       " ('2022-02-18 23:35:24',\n",
       "  'Apple is more responsible than Meta, says whistleblower Frances Haugen',\n",
       "  'https://finance.yahoo.com/news/frances-haugen-apple-more-responsible-than-meta-180524976.html'),\n",
       " ('2022-02-18 23:21:33',\n",
       "  '4 Dow Jones Stocks To Buy And Watch In February 2022: Apple Slides',\n",
       "  'https://finance.yahoo.com/m/65b53896-faf4-3a06-9d0d-a63cf3c83192/4-dow-jones-stocks-to-buy-and.html')]"
      ]
     },
     "execution_count": 37,
     "metadata": {},
     "output_type": "execute_result"
    }
   ],
   "source": [
    "aapl"
   ]
  },
  {
   "cell_type": "code",
   "execution_count": 39,
   "metadata": {},
   "outputs": [
    {
     "data": {
      "text/plain": [
       "[('2022-02-19 21:18:00',\n",
       "  'Tech employers in Ukraine are preparing for the worst, including using crypto in lieu of cash',\n",
       "  'https://finance.yahoo.com/m/71f4b6e5-7e4e-3eec-b87f-b5ff1d422227/tech-employers-in-ukraine-are.html'),\n",
       " ('2022-02-19 19:30:00',\n",
       "  'Surging U.S. Share Buybacks Offer Support to Sputtering Market',\n",
       "  'https://finance.yahoo.com/news/surging-u-share-buybacks-offer-140000163.html'),\n",
       " ('2022-02-19 18:00:00',\n",
       "  '6 Anti-Trust Laws That Smart Investors Should Be Watching',\n",
       "  'https://finance.yahoo.com/m/eaafecf8-a7e5-35a3-bf71-78c0dcb84e71/6-anti-trust-laws-that-smart.html'),\n",
       " ('2022-02-19 18:00:00',\n",
       "  'Shiba Inu Has Soared 63% From Its 2022 Low, but Here Are 3 Stocks We Still Like Better',\n",
       "  'https://finance.yahoo.com/m/45374fa7-7340-32ce-a0e9-b43bd17a40a2/shiba-inu-has-soared-63%25-from.html'),\n",
       " ('2022-02-19 01:41:30',\n",
       "  'Google trims Triangle pay as concerns rise',\n",
       "  'https://finance.yahoo.com/m/46ed739a-d2e1-3673-aed3-fc3c6d265de1/google-trims-triangle-pay-as.html'),\n",
       " ('2022-02-19 00:44:31',\n",
       "  'How Google (Alphabet) Makes Money: advertising and cloud',\n",
       "  'https://finance.yahoo.com/m/65a32c13-eaa4-3c98-9237-fff13a350441/how-google-%28alphabet%29-makes.html'),\n",
       " ('2022-02-19 00:18:06',\n",
       "  '10 Best Stocks to Buy According to Stanley Druckenmiller',\n",
       "  'https://finance.yahoo.com/news/10-best-stocks-buy-according-184806148.html'),\n",
       " ('2022-02-19 00:05:13',\n",
       "  'Microsoft’s 10 Biggest Acquisitions of All Time',\n",
       "  'https://finance.yahoo.com/news/microsoft-10-biggest-acquisitions-time-183513066.html')]"
      ]
     },
     "execution_count": 39,
     "metadata": {},
     "output_type": "execute_result"
    }
   ],
   "source": [
    "google"
   ]
  }
 ],
 "metadata": {
  "interpreter": {
   "hash": "c0f70214c0dd213f07f54ee5d6e0ea644bdbba35113c9bfe8aaa0d1db03ad5dd"
  },
  "kernelspec": {
   "display_name": "Python 3.9.7 ('base')",
   "language": "python",
   "name": "python3"
  },
  "language_info": {
   "codemirror_mode": {
    "name": "ipython",
    "version": 3
   },
   "file_extension": ".py",
   "mimetype": "text/x-python",
   "name": "python",
   "nbconvert_exporter": "python",
   "pygments_lexer": "ipython3",
   "version": "3.9.7"
  },
  "orig_nbformat": 4
 },
 "nbformat": 4,
 "nbformat_minor": 2
}
